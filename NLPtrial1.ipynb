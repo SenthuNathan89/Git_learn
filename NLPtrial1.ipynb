#!/usr/bin/env python2
# -*- coding: utf-8 -*-
"""
Created on Tue Sep 18 09:40:50 2018

@author: senthu
"""


from __future__ import division

import math as mpkg
from math import log
import numpy as numpkg
import matplotlib.pyplot as plotpkg
import pandas as panpkg
import statsmodels as statspkg

import matplotlib.pyplot as plt

from IPython.display import display, HTML
from numpy import arange,array,ones
import csv
import math

import sys
import os
import nltk
nltk.download('punkt')

from nltk.corpus import stopwords
from nltk.tokenize import word_tokenize, sent_tokenize


#Read UCU Excel file

df = panpkg.read_csv('/Users/senthu/Downloads/Hays_Glassdoor.csv')

print("Hello World")



##############################################################################

Summary=df.iloc[:,3]
pros=df.iloc[:,16]
cons=df.iloc[:,17]

    
def count_words(textinput):
    count=0
    words=word_tokenize(textinput)
    for word in words:
        count+=1
    return count

def createfreqdict(textinput):
    i=0
    freqDictlist=[]
    for  textinput in text_sents:
        i+=1
        freq_dict={}
        words=word_tokenize(textinput)
        for word in words:
            word=word.lower()
            if word in freq_dict:
                freq_dict[word]+=1
            else:
                freq_dict[word]=1
            temp={'doc_id':i, 'freq_dict':freq_dict}
            freqDictlist.append(temp)
    return freqDictlist


def gettext(textinput):
    doc_info=[]
    i=0
    for textinput in text_sents:      
        count=count_words(pros[i])
        temp={'doc_id':i,'doc_length':count}
        doc_info.append(temp)
        
    return doc_info  
        
    
##############################################################################
    
def computeTFvalue(doc_info, freqDictlist):
    TF_scores=[]
    for tempdict in freqDictlist:
        id=tempdict['doc_id']
        for k in tempdict['freq_dict']:
            temp={'doc_id':id, 'TF_score': tempdict['freq_dict'][k]/doc_info[id-1]['doc_length'],'key':k}
            TF_scores.append(temp)
    return TF_scores


            
def computeIDFvalue(doc_info, freqDictlist):
    IDF_scores=[]
    IDFcounter=0
    for dict in freqDictlist:
        IDFcounter+=1
        for k in dict['freq_dict'].keys():
            counter= sum([k in tempdict['freq_dict'] for tempdict in freqDictlist])
            temp={'doc_id':counter, 'IDF_score':math.log(len(doc_info)/counter), 'key':k}
            
            IDF_scores.append(temp)
    return IDF_scores


def computeTFIDF(TF_scores,IDF_scores):
    TFIDF_scores=[];
    for j in IDF_scores:
        for i in TF_scores:
            if j['key']==i['key']:# and j['doc_id']==i['doc_id']:
                temp={'TFIDF_score': j['IDF_score']*i['TF_score'],'key':i['key']}
        TFIDF_scores.append(temp)
    return TFIDF_scores            

    

#gettext(pros)

###############################################################################
prostext=pros[0]
for i in range(0,10):
    prostext=prostext+pros[i+1]
    

text_sents=sent_tokenize(prostext)
#text_clean = [remove_string_special-characters(s) for s in text_sents]
doc_info=gettext(text_sents)
#
freqDictlist=createfreqdict(text_sents)
TF_scores=computeTFvalue(doc_info, freqDictlist)
IDF_scores=computeIDFvalue(doc_info,freqDictlist)
TFIDF_scores=computeTFIDF(TF_scores,IDF_scores)

#print("TF scores are:")
#print(TF_scores)
#print("IDF scores are:")
#print(IDF_scores)

print(prostext)




