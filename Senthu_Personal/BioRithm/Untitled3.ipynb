{
 "cells": [
  {
   "cell_type": "code",
   "execution_count": 1,
   "metadata": {},
   "outputs": [],
   "source": [
    "from selenium import webdriver\n",
    "from selenium.webdriver.support.ui import Select\n",
    "from selenium.webdriver.common.keys import Keys\n",
    "from bs4 import BeautifulSoup\n",
    "import time\n",
    "import requests\n",
    "import pandas as pd\n",
    "from collections import Counter\n",
    "from urllib.request import Request, urlopen\n",
    "\n"
   ]
  },
  {
   "cell_type": "code",
   "execution_count": 2,
   "metadata": {},
   "outputs": [],
   "source": [
    "URL=\"https://www.realestate.com.au/buy/in-3000/list-1\"\n",
    "user_agent = 'Mozilla/5.0 (X11; Linux x86_64) AppleWebKit/537.36 (KHTML, like Gecko) Chrome/36.0.1985.143 Safari/537.36'\n",
    "\n",
    "headers = {'User-Agent': user_agent}\n",
    "content = Request(URL, headers=headers)\n",
    "webpage=urlopen(content).read()\n",
    "soup = BeautifulSoup(webpage, 'html.parser')"
   ]
  },
  {
   "cell_type": "code",
   "execution_count": 3,
   "metadata": {},
   "outputs": [],
   "source": [
    "x=soup.find_all(\"span\", class_=\"property-price\")\n",
    "price_str=[]\n",
    "for i in range(len(x)):\n",
    "    price_str.append(x[i].get_text())"
   ]
  },
  {
   "cell_type": "code",
   "execution_count": 4,
   "metadata": {},
   "outputs": [],
   "source": [
    "c=soup.find_all('h2')\n",
    "property_address=[]\n",
    "for j in range(len(c)):\n",
    "    property_address.append(c[j].get_text())\n"
   ]
  },
  {
   "cell_type": "code",
   "execution_count": 5,
   "metadata": {},
   "outputs": [],
   "source": [
    "d=soup.find_all(class_=\"primary-features residential-card__primary\")\n",
    "bedrooms=[]\n",
    "bathrooms=[]\n",
    "garage=[]\n"
   ]
  },
  {
   "cell_type": "code",
   "execution_count": 8,
   "metadata": {},
   "outputs": [
    {
     "data": {
      "text/plain": [
       "['3802/639 Lonsdale Street, Melbourne',\n",
       " '53/24-38 Little Bourke Street, Melbourne',\n",
       " '2901/220 SPENCER STREET, Melbourne',\n",
       " '1110/200 SPENCER STREET, Melbourne',\n",
       " '2414/155 FRANKLIN ST, Melbourne',\n",
       " '2212/500 Elizabeth Street, Melbourne',\n",
       " '911/9-23 MacKenzie Street, Melbourne',\n",
       " '17  Spring Street, Melbourne',\n",
       " '8307/224 La Trobe Street, Melbourne',\n",
       " '318 Queen Street, Melbourne',\n",
       " '7106/224 La Trobe Street, Melbourne',\n",
       " \"905/228 A'BECKETT STREET, Melbourne\",\n",
       " '1004/565 Flinders Street, Melbourne',\n",
       " '816/39 Lonsdale Street, Melbourne',\n",
       " '4506/500 Elizabeth Street, Melbourne',\n",
       " \"4708/80 A'beckett Street, Melbourne\",\n",
       " '1/535 Flinders Lane, Melbourne',\n",
       " '3307/285 La Trobe Street, Melbourne',\n",
       " '1404/7 Katherine Place, Melbourne',\n",
       " '4107/38 Rose Lane, Melbourne',\n",
       " '3607/27 Therry Street, Melbourne',\n",
       " '12B/131  Lonsdale Street, Melbourne',\n",
       " '808/5 Sutherland Street, Melbourne',\n",
       " '9 - 23 Mackenzie St, Melbourne',\n",
       " '58/24-38 Little Bourke Street, Melbourne']"
      ]
     },
     "execution_count": 8,
     "metadata": {},
     "output_type": "execute_result"
    }
   ],
   "source": [
    "property_address"
   ]
  },
  {
   "cell_type": "code",
   "execution_count": 7,
   "metadata": {},
   "outputs": [
    {
     "name": "stdout",
     "output_type": "stream",
     "text": [
      "['', '2', '1', '1']\n",
      "['', '2', '2']\n",
      "['', '2', '1', '1']\n",
      "['', '2', '1', '1']\n",
      "['', '1', '1']\n",
      "['', '2', '1']\n",
      "['', '1', '1\\xa053.3', 'm²']\n"
     ]
    },
    {
     "ename": "ValueError",
     "evalue": "invalid literal for int() with base 10: '1\\xa053.3'",
     "output_type": "error",
     "traceback": [
      "\u001b[0;31m---------------------------------------------------------------------------\u001b[0m",
      "\u001b[0;31mValueError\u001b[0m                                Traceback (most recent call last)",
      "\u001b[0;32m<ipython-input-7-7d90161dbb07>\u001b[0m in \u001b[0;36m<module>\u001b[0;34m\u001b[0m\n\u001b[1;32m      4\u001b[0m     \u001b[0mprint\u001b[0m\u001b[0;34m(\u001b[0m\u001b[0mxc\u001b[0m\u001b[0;34m)\u001b[0m\u001b[0;34m\u001b[0m\u001b[0m\n\u001b[1;32m      5\u001b[0m     \u001b[0mbedrooms\u001b[0m\u001b[0;34m.\u001b[0m\u001b[0mappend\u001b[0m\u001b[0;34m(\u001b[0m\u001b[0mint\u001b[0m\u001b[0;34m(\u001b[0m\u001b[0mxc\u001b[0m\u001b[0;34m[\u001b[0m\u001b[0;36m1\u001b[0m\u001b[0;34m]\u001b[0m\u001b[0;34m)\u001b[0m\u001b[0;34m)\u001b[0m\u001b[0;34m\u001b[0m\u001b[0m\n\u001b[0;32m----> 6\u001b[0;31m     \u001b[0mbathrooms\u001b[0m\u001b[0;34m.\u001b[0m\u001b[0mappend\u001b[0m\u001b[0;34m(\u001b[0m\u001b[0mint\u001b[0m\u001b[0;34m(\u001b[0m\u001b[0mxc\u001b[0m\u001b[0;34m[\u001b[0m\u001b[0;36m2\u001b[0m\u001b[0;34m]\u001b[0m\u001b[0;34m)\u001b[0m\u001b[0;34m)\u001b[0m\u001b[0;34m\u001b[0m\u001b[0m\n\u001b[0m\u001b[1;32m      7\u001b[0m     \u001b[0;32mif\u001b[0m \u001b[0mlen\u001b[0m\u001b[0;34m(\u001b[0m\u001b[0mxc\u001b[0m\u001b[0;34m)\u001b[0m\u001b[0;34m>\u001b[0m\u001b[0;36m3\u001b[0m\u001b[0;34m:\u001b[0m\u001b[0;34m\u001b[0m\u001b[0m\n\u001b[1;32m      8\u001b[0m         \u001b[0mgarage\u001b[0m\u001b[0;34m.\u001b[0m\u001b[0mappend\u001b[0m\u001b[0;34m(\u001b[0m\u001b[0mint\u001b[0m\u001b[0;34m(\u001b[0m\u001b[0mxc\u001b[0m\u001b[0;34m[\u001b[0m\u001b[0;36m3\u001b[0m\u001b[0;34m]\u001b[0m\u001b[0;34m)\u001b[0m\u001b[0;34m)\u001b[0m\u001b[0;34m\u001b[0m\u001b[0m\n",
      "\u001b[0;31mValueError\u001b[0m: invalid literal for int() with base 10: '1\\xa053.3'"
     ]
    }
   ],
   "source": [
    "\n",
    "for i in range(len(d)):\n",
    "    \n",
    "    xc=d[i].get_text().split(' ')\n",
    "    print(xc)\n",
    "    bedrooms.append(int(xc[1]))\n",
    "    bathrooms.append(int(xc[2]))\n",
    "    if len(xc)>3:\n",
    "        if xc[3]=='m'\n",
    "        garage.append(int(xc[3]))\n",
    "    else:\n",
    "        garage.append(0)"
   ]
  },
  {
   "cell_type": "code",
   "execution_count": null,
   "metadata": {},
   "outputs": [],
   "source": [
    "\n"
   ]
  },
  {
   "cell_type": "code",
   "execution_count": null,
   "metadata": {},
   "outputs": [],
   "source": []
  }
 ],
 "metadata": {
  "kernelspec": {
   "display_name": "Python 3",
   "language": "python",
   "name": "python3"
  },
  "language_info": {
   "codemirror_mode": {
    "name": "ipython",
    "version": 3
   },
   "file_extension": ".py",
   "mimetype": "text/x-python",
   "name": "python",
   "nbconvert_exporter": "python",
   "pygments_lexer": "ipython3",
   "version": "3.6.5"
  }
 },
 "nbformat": 4,
 "nbformat_minor": 2
}
